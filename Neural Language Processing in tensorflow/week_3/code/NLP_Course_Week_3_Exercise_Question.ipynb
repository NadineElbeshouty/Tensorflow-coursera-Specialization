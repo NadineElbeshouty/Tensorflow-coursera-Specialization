{
  "nbformat": 4,
  "nbformat_minor": 0,
  "metadata": {
    "accelerator": "GPU",
    "colab": {
      "name": "NLP Course - Week 3 Exercise Question.ipynb",
      "provenance": []
    },
    "kernelspec": {
      "display_name": "Python 3",
      "name": "python3"
    }
  },
  "cells": [
    {
      "cell_type": "code",
      "metadata": {
        "id": "zX4Kg8DUTKWO"
      },
      "source": [
        "#@title Licensed under the Apache License, Version 2.0 (the \"License\");\n",
        "# you may not use this file except in compliance with the License.\n",
        "# You may obtain a copy of the License at\n",
        "#\n",
        "# https://www.apache.org/licenses/LICENSE-2.0\n",
        "#\n",
        "# Unless required by applicable law or agreed to in writing, software\n",
        "# distributed under the License is distributed on an \"AS IS\" BASIS,\n",
        "# WITHOUT WARRANTIES OR CONDITIONS OF ANY KIND, either express or implied.\n",
        "# See the License for the specific language governing permissions and\n",
        "# limitations under the License."
      ],
      "execution_count": 1,
      "outputs": []
    },
    {
      "cell_type": "code",
      "metadata": {
        "id": "hmA6EzkQJ5jt"
      },
      "source": [
        "import json\n",
        "import tensorflow as tf\n",
        "import csv\n",
        "import random\n",
        "import numpy as np\n",
        "\n",
        "from tensorflow.keras.preprocessing.text import Tokenizer\n",
        "from tensorflow.keras.preprocessing.sequence import pad_sequences\n",
        "from tensorflow.keras.utils import to_categorical\n",
        "from tensorflow.keras import regularizers\n",
        "\n",
        "\n",
        "embedding_dim = 100\n",
        "max_length = 16\n",
        "trunc_type='post'\n",
        "padding_type='post'\n",
        "oov_tok = \"<OOV>\"\n",
        "training_size=160000\n",
        "test_portion=.1\n",
        "\n",
        "corpus = []\n"
      ],
      "execution_count": 2,
      "outputs": []
    },
    {
      "cell_type": "code",
      "metadata": {
        "id": "bM0l_dORKqE0",
        "outputId": "f263d156-8ad5-461a-d471-b353a890b224",
        "colab": {
          "base_uri": "https://localhost:8080/",
          "height": 228
        }
      },
      "source": [
        "# Note that I cleaned the Stanford dataset to remove LATIN1 encoding to make it easier for Python CSV reader\n",
        "# You can do that yourself with:\n",
        "# iconv -f LATIN1 -t UTF8 training.1600000.processed.noemoticon.csv -o training_cleaned.csv\n",
        "# I then hosted it on my site to make it easier to use in this notebook\n",
        "\n",
        "!wget --no-check-certificate \\\n",
        "    https://storage.googleapis.com/laurencemoroney-blog.appspot.com/training_cleaned.csv \\\n",
        "    -O /tmp/training_cleaned.csv\n",
        "\n",
        "num_sentences = 0\n",
        "\n",
        "with open(\"/tmp/training_cleaned.csv\") as csvfile:\n",
        "    reader = csv.reader(csvfile, delimiter=',')\n",
        "    for row in reader:\n",
        "      list_item=[]\n",
        "      list_item.append(row[5])\n",
        "      this_label=row[0]\n",
        "      if this_label =='0':\n",
        "        list_item.append(0)\n",
        "      else:\n",
        "        list_item.append(1)\n",
        "     \n",
        "     \n",
        "      num_sentences = num_sentences + 1\n",
        "      corpus.append(list_item)\n"
      ],
      "execution_count": 3,
      "outputs": [
        {
          "output_type": "stream",
          "text": [
            "--2020-10-02 05:40:50--  https://storage.googleapis.com/laurencemoroney-blog.appspot.com/training_cleaned.csv\n",
            "Resolving storage.googleapis.com (storage.googleapis.com)... 74.125.195.128, 74.125.28.128, 74.125.142.128, ...\n",
            "Connecting to storage.googleapis.com (storage.googleapis.com)|74.125.195.128|:443... connected.\n",
            "HTTP request sent, awaiting response... 200 OK\n",
            "Length: 238942690 (228M) [application/octet-stream]\n",
            "Saving to: ‘/tmp/training_cleaned.csv’\n",
            "\n",
            "/tmp/training_clean 100%[===================>] 227.87M   210MB/s    in 1.1s    \n",
            "\n",
            "2020-10-02 05:40:52 (210 MB/s) - ‘/tmp/training_cleaned.csv’ saved [238942690/238942690]\n",
            "\n"
          ],
          "name": "stdout"
        }
      ]
    },
    {
      "cell_type": "code",
      "metadata": {
        "id": "3kxblBUjEUX-",
        "outputId": "eec1100a-6c7d-4e03-87ff-da3828006283",
        "colab": {
          "base_uri": "https://localhost:8080/",
          "height": 89
        }
      },
      "source": [
        "print(num_sentences)\n",
        "print(len(corpus))\n",
        "print(corpus[1])\n",
        "\n",
        "# Expected Output:\n",
        "# 1600000\n",
        "# 1600000\n",
        "# [\"is upset that he can't update his Facebook by texting it... and might cry as a result  School today also. Blah!\", 0]"
      ],
      "execution_count": 4,
      "outputs": [
        {
          "output_type": "stream",
          "text": [
            "1600000\n",
            "1600000\n",
            "[\"is upset that he can't update his Facebook by texting it... and might cry as a result  School today also. Blah!\", 0]\n"
          ],
          "name": "stdout"
        }
      ]
    },
    {
      "cell_type": "code",
      "metadata": {
        "id": "ohOGz24lsNAD"
      },
      "source": [
        "sentences=[]\n",
        "labels=[]\n",
        "random.shuffle(corpus)\n",
        "for x in range(training_size):\n",
        "    sentences.append(corpus[x][0])\n",
        "    labels.append(corpus[x][1])\n",
        "\n",
        "\n",
        "tokenizer = Tokenizer()\n",
        "tokenizer.fit_on_texts(sentences)\n",
        "\n",
        "word_index = tokenizer.word_index\n",
        "vocab_size=len(word_index)\n",
        "\n",
        "sequences = tokenizer.texts_to_sequences(sentences)\n",
        "padded = pad_sequences(sequences, maxlen=max_length, padding=padding_type, truncating=trunc_type)\n",
        "\n",
        "split = int(test_portion * training_size)\n",
        "\n",
        "test_sequences = padded[0:split]\n",
        "training_sequences = padded[split:training_size]\n",
        "test_labels = labels[0:split]\n",
        "training_labels = labels[split:training_size]"
      ],
      "execution_count": 5,
      "outputs": []
    },
    {
      "cell_type": "code",
      "metadata": {
        "id": "gIrtRem1En3N",
        "outputId": "8ddc7125-4755-4b70-ea6c-65f1ad90eece",
        "colab": {
          "base_uri": "https://localhost:8080/",
          "height": 52
        }
      },
      "source": [
        "print(vocab_size)\n",
        "print(word_index['i'])\n",
        "# Expected Output\n",
        "# 138858\n",
        "# 1"
      ],
      "execution_count": 6,
      "outputs": [
        {
          "output_type": "stream",
          "text": [
            "138245\n",
            "1\n"
          ],
          "name": "stdout"
        }
      ]
    },
    {
      "cell_type": "code",
      "metadata": {
        "id": "C1zdgJkusRh0",
        "outputId": "4290d607-4202-4b42-82e2-2df6be1e4d10",
        "colab": {
          "base_uri": "https://localhost:8080/",
          "height": 228
        }
      },
      "source": [
        "# Note this is the 100 dimension version of GloVe from Stanford\n",
        "# I unzipped and hosted it on my site to make this notebook easier\n",
        "!wget --no-check-certificate \\\n",
        "    https://storage.googleapis.com/laurencemoroney-blog.appspot.com/glove.6B.100d.txt \\\n",
        "    -O /tmp/glove.6B.100d.txt\n",
        "embeddings_index = {};\n",
        "with open('/tmp/glove.6B.100d.txt') as f:\n",
        "    for line in f:\n",
        "        values = line.split();\n",
        "        word = values[0];\n",
        "        coefs = np.asarray(values[1:], dtype='float32');\n",
        "        embeddings_index[word] = coefs;\n",
        "\n",
        "embeddings_matrix = np.zeros((vocab_size+1, embedding_dim));\n",
        "for word, i in word_index.items():\n",
        "    embedding_vector = embeddings_index.get(word);\n",
        "    if embedding_vector is not None:\n",
        "        embeddings_matrix[i] = embedding_vector;"
      ],
      "execution_count": 7,
      "outputs": [
        {
          "output_type": "stream",
          "text": [
            "--2020-10-02 05:41:03--  https://storage.googleapis.com/laurencemoroney-blog.appspot.com/glove.6B.100d.txt\n",
            "Resolving storage.googleapis.com (storage.googleapis.com)... 74.125.142.128, 74.125.20.128, 108.177.98.128, ...\n",
            "Connecting to storage.googleapis.com (storage.googleapis.com)|74.125.142.128|:443... connected.\n",
            "HTTP request sent, awaiting response... 200 OK\n",
            "Length: 347116733 (331M) [text/plain]\n",
            "Saving to: ‘/tmp/glove.6B.100d.txt’\n",
            "\n",
            "/tmp/glove.6B.100d. 100%[===================>] 331.04M   234MB/s    in 1.4s    \n",
            "\n",
            "2020-10-02 05:41:05 (234 MB/s) - ‘/tmp/glove.6B.100d.txt’ saved [347116733/347116733]\n",
            "\n"
          ],
          "name": "stdout"
        }
      ]
    },
    {
      "cell_type": "code",
      "metadata": {
        "id": "71NLk_lpFLNt",
        "outputId": "1a8ffc23-de3f-4300-e661-5fc24875ba4a",
        "colab": {
          "base_uri": "https://localhost:8080/",
          "height": 35
        }
      },
      "source": [
        "print(len(embeddings_matrix))\n",
        "# Expected Output\n",
        "# 138859"
      ],
      "execution_count": 8,
      "outputs": [
        {
          "output_type": "stream",
          "text": [
            "138246\n"
          ],
          "name": "stdout"
        }
      ]
    },
    {
      "cell_type": "code",
      "metadata": {
        "id": "iKKvbuEBOGFz",
        "outputId": "a546bfc4-228f-48ea-bc64-42acedd9a8e0",
        "colab": {
          "base_uri": "https://localhost:8080/",
          "height": 1000
        }
      },
      "source": [
        "model = tf.keras.Sequential([\n",
        "    tf.keras.layers.Embedding(vocab_size+1, embedding_dim, input_length=max_length, weights=[embeddings_matrix], trainable=False),\n",
        "    tf.keras.layers.Dropout(0.2),\n",
        "    tf.keras.layers.Conv1D(64,5,activation='relu'),\n",
        "    tf.keras.layers.MaxPool1D(pool_size=4),\n",
        "    tf.keras.layers.LSTM(64),\n",
        "    tf.keras.layers.Dense(1,activation='sigmoid') \n",
        "])\n",
        "model.compile(loss='binary_crossentropy',optimizer='adam',metrics=['accuracy'])\n",
        "model.summary()\n",
        "\n",
        "num_epochs = 50\n",
        "training_padded = np.array(training_sequences)\n",
        "training_labels = np.array(training_labels)\n",
        "testing_padded = np.array(test_sequences)\n",
        "testing_labels = np.array(test_labels)\n",
        "history = model.fit(training_padded, training_labels, epochs=num_epochs, validation_data=(testing_padded, testing_labels), verbose=2)\n",
        "print(\"Training Complete\")\n"
      ],
      "execution_count": 13,
      "outputs": [
        {
          "output_type": "stream",
          "text": [
            "Model: \"sequential_4\"\n",
            "_________________________________________________________________\n",
            "Layer (type)                 Output Shape              Param #   \n",
            "=================================================================\n",
            "embedding_4 (Embedding)      (None, 16, 100)           13824600  \n",
            "_________________________________________________________________\n",
            "dropout_4 (Dropout)          (None, 16, 100)           0         \n",
            "_________________________________________________________________\n",
            "conv1d_4 (Conv1D)            (None, 12, 64)            32064     \n",
            "_________________________________________________________________\n",
            "max_pooling1d_4 (MaxPooling1 (None, 3, 64)             0         \n",
            "_________________________________________________________________\n",
            "lstm_4 (LSTM)                (None, 64)                33024     \n",
            "_________________________________________________________________\n",
            "dense_4 (Dense)              (None, 1)                 65        \n",
            "=================================================================\n",
            "Total params: 13,889,753\n",
            "Trainable params: 65,153\n",
            "Non-trainable params: 13,824,600\n",
            "_________________________________________________________________\n",
            "Epoch 1/50\n",
            "4500/4500 - 15s - loss: 0.5661 - accuracy: 0.7001 - val_loss: 0.5240 - val_accuracy: 0.7323\n",
            "Epoch 2/50\n",
            "4500/4500 - 14s - loss: 0.5265 - accuracy: 0.7319 - val_loss: 0.5143 - val_accuracy: 0.7424\n",
            "Epoch 3/50\n",
            "4500/4500 - 14s - loss: 0.5093 - accuracy: 0.7444 - val_loss: 0.5072 - val_accuracy: 0.7450\n",
            "Epoch 4/50\n",
            "4500/4500 - 14s - loss: 0.4985 - accuracy: 0.7537 - val_loss: 0.5022 - val_accuracy: 0.7454\n",
            "Epoch 5/50\n",
            "4500/4500 - 14s - loss: 0.4896 - accuracy: 0.7580 - val_loss: 0.4990 - val_accuracy: 0.7510\n",
            "Epoch 6/50\n",
            "4500/4500 - 14s - loss: 0.4834 - accuracy: 0.7636 - val_loss: 0.5039 - val_accuracy: 0.7496\n",
            "Epoch 7/50\n",
            "4500/4500 - 14s - loss: 0.4766 - accuracy: 0.7667 - val_loss: 0.5048 - val_accuracy: 0.7479\n",
            "Epoch 8/50\n",
            "4500/4500 - 14s - loss: 0.4725 - accuracy: 0.7699 - val_loss: 0.5064 - val_accuracy: 0.7476\n",
            "Epoch 9/50\n",
            "4500/4500 - 14s - loss: 0.4680 - accuracy: 0.7721 - val_loss: 0.5031 - val_accuracy: 0.7492\n",
            "Epoch 10/50\n",
            "4500/4500 - 14s - loss: 0.4637 - accuracy: 0.7751 - val_loss: 0.5061 - val_accuracy: 0.7489\n",
            "Epoch 11/50\n",
            "4500/4500 - 14s - loss: 0.4604 - accuracy: 0.7761 - val_loss: 0.5024 - val_accuracy: 0.7502\n",
            "Epoch 12/50\n",
            "4500/4500 - 14s - loss: 0.4564 - accuracy: 0.7781 - val_loss: 0.5099 - val_accuracy: 0.7476\n",
            "Epoch 13/50\n",
            "4500/4500 - 14s - loss: 0.4543 - accuracy: 0.7800 - val_loss: 0.5050 - val_accuracy: 0.7518\n",
            "Epoch 14/50\n",
            "4500/4500 - 14s - loss: 0.4530 - accuracy: 0.7816 - val_loss: 0.5020 - val_accuracy: 0.7504\n",
            "Epoch 15/50\n",
            "4500/4500 - 14s - loss: 0.4494 - accuracy: 0.7843 - val_loss: 0.5092 - val_accuracy: 0.7495\n",
            "Epoch 16/50\n",
            "4500/4500 - 15s - loss: 0.4470 - accuracy: 0.7857 - val_loss: 0.5076 - val_accuracy: 0.7517\n",
            "Epoch 17/50\n",
            "4500/4500 - 15s - loss: 0.4467 - accuracy: 0.7851 - val_loss: 0.5059 - val_accuracy: 0.7477\n",
            "Epoch 18/50\n",
            "4500/4500 - 14s - loss: 0.4426 - accuracy: 0.7878 - val_loss: 0.5133 - val_accuracy: 0.7508\n",
            "Epoch 19/50\n",
            "4500/4500 - 14s - loss: 0.4421 - accuracy: 0.7891 - val_loss: 0.5123 - val_accuracy: 0.7494\n",
            "Epoch 20/50\n",
            "4500/4500 - 14s - loss: 0.4421 - accuracy: 0.7887 - val_loss: 0.5071 - val_accuracy: 0.7506\n",
            "Epoch 21/50\n",
            "4500/4500 - 14s - loss: 0.4408 - accuracy: 0.7893 - val_loss: 0.5117 - val_accuracy: 0.7479\n",
            "Epoch 22/50\n",
            "4500/4500 - 14s - loss: 0.4396 - accuracy: 0.7898 - val_loss: 0.5112 - val_accuracy: 0.7466\n",
            "Epoch 23/50\n",
            "4500/4500 - 14s - loss: 0.4393 - accuracy: 0.7897 - val_loss: 0.5133 - val_accuracy: 0.7495\n",
            "Epoch 24/50\n",
            "4500/4500 - 14s - loss: 0.4363 - accuracy: 0.7917 - val_loss: 0.5133 - val_accuracy: 0.7471\n",
            "Epoch 25/50\n",
            "4500/4500 - 14s - loss: 0.4364 - accuracy: 0.7919 - val_loss: 0.5158 - val_accuracy: 0.7525\n",
            "Epoch 26/50\n",
            "4500/4500 - 14s - loss: 0.4359 - accuracy: 0.7917 - val_loss: 0.5146 - val_accuracy: 0.7477\n",
            "Epoch 27/50\n",
            "4500/4500 - 14s - loss: 0.4336 - accuracy: 0.7932 - val_loss: 0.5160 - val_accuracy: 0.7487\n",
            "Epoch 28/50\n",
            "4500/4500 - 14s - loss: 0.4342 - accuracy: 0.7924 - val_loss: 0.5144 - val_accuracy: 0.7471\n",
            "Epoch 29/50\n",
            "4500/4500 - 14s - loss: 0.4333 - accuracy: 0.7948 - val_loss: 0.5133 - val_accuracy: 0.7508\n",
            "Epoch 30/50\n",
            "4500/4500 - 14s - loss: 0.4331 - accuracy: 0.7931 - val_loss: 0.5177 - val_accuracy: 0.7453\n",
            "Epoch 31/50\n",
            "4500/4500 - 14s - loss: 0.4312 - accuracy: 0.7955 - val_loss: 0.5171 - val_accuracy: 0.7486\n",
            "Epoch 32/50\n",
            "4500/4500 - 14s - loss: 0.4318 - accuracy: 0.7945 - val_loss: 0.5144 - val_accuracy: 0.7469\n",
            "Epoch 33/50\n",
            "4500/4500 - 14s - loss: 0.4315 - accuracy: 0.7949 - val_loss: 0.5212 - val_accuracy: 0.7460\n",
            "Epoch 34/50\n",
            "4500/4500 - 14s - loss: 0.4297 - accuracy: 0.7950 - val_loss: 0.5179 - val_accuracy: 0.7448\n",
            "Epoch 35/50\n",
            "4500/4500 - 14s - loss: 0.4296 - accuracy: 0.7968 - val_loss: 0.5168 - val_accuracy: 0.7473\n",
            "Epoch 36/50\n",
            "4500/4500 - 14s - loss: 0.4292 - accuracy: 0.7960 - val_loss: 0.5223 - val_accuracy: 0.7412\n",
            "Epoch 37/50\n",
            "4500/4500 - 14s - loss: 0.4287 - accuracy: 0.7959 - val_loss: 0.5210 - val_accuracy: 0.7481\n",
            "Epoch 38/50\n",
            "4500/4500 - 14s - loss: 0.4288 - accuracy: 0.7958 - val_loss: 0.5167 - val_accuracy: 0.7481\n",
            "Epoch 39/50\n",
            "4500/4500 - 15s - loss: 0.4277 - accuracy: 0.7970 - val_loss: 0.5156 - val_accuracy: 0.7479\n",
            "Epoch 40/50\n",
            "4500/4500 - 14s - loss: 0.4286 - accuracy: 0.7966 - val_loss: 0.5159 - val_accuracy: 0.7483\n",
            "Epoch 41/50\n",
            "4500/4500 - 14s - loss: 0.4268 - accuracy: 0.7978 - val_loss: 0.5238 - val_accuracy: 0.7429\n",
            "Epoch 42/50\n",
            "4500/4500 - 14s - loss: 0.4281 - accuracy: 0.7979 - val_loss: 0.5167 - val_accuracy: 0.7462\n",
            "Epoch 43/50\n",
            "4500/4500 - 14s - loss: 0.4259 - accuracy: 0.7976 - val_loss: 0.5211 - val_accuracy: 0.7476\n",
            "Epoch 44/50\n",
            "4500/4500 - 14s - loss: 0.4261 - accuracy: 0.7965 - val_loss: 0.5204 - val_accuracy: 0.7459\n",
            "Epoch 45/50\n",
            "4500/4500 - 14s - loss: 0.4266 - accuracy: 0.7977 - val_loss: 0.5235 - val_accuracy: 0.7449\n",
            "Epoch 46/50\n",
            "4500/4500 - 14s - loss: 0.4249 - accuracy: 0.7986 - val_loss: 0.5187 - val_accuracy: 0.7454\n",
            "Epoch 47/50\n",
            "4500/4500 - 14s - loss: 0.4259 - accuracy: 0.7977 - val_loss: 0.5219 - val_accuracy: 0.7465\n",
            "Epoch 48/50\n",
            "4500/4500 - 14s - loss: 0.4247 - accuracy: 0.8001 - val_loss: 0.5249 - val_accuracy: 0.7427\n",
            "Epoch 49/50\n",
            "4500/4500 - 14s - loss: 0.4255 - accuracy: 0.7985 - val_loss: 0.5219 - val_accuracy: 0.7464\n",
            "Epoch 50/50\n",
            "4500/4500 - 14s - loss: 0.4253 - accuracy: 0.7977 - val_loss: 0.5202 - val_accuracy: 0.7430\n",
            "Training Complete\n"
          ],
          "name": "stdout"
        }
      ]
    },
    {
      "cell_type": "code",
      "metadata": {
        "id": "qxju4ItJKO8F",
        "outputId": "f54cc36e-8cb2-4fe3-ae19-7784d4ee25b1",
        "colab": {
          "base_uri": "https://localhost:8080/",
          "height": 608
        }
      },
      "source": [
        "import matplotlib.image  as mpimg\n",
        "import matplotlib.pyplot as plt\n",
        "\n",
        "#-----------------------------------------------------------\n",
        "# Retrieve a list of list results on training and test data\n",
        "# sets for each training epoch\n",
        "#-----------------------------------------------------------\n",
        "acc=history.history['accuracy']\n",
        "val_acc=history.history['val_accuracy']\n",
        "loss=history.history['loss']\n",
        "val_loss=history.history['val_loss']\n",
        "\n",
        "epochs=range(len(acc)) # Get number of epochs\n",
        "\n",
        "#------------------------------------------------\n",
        "# Plot training and validation accuracy per epoch\n",
        "#------------------------------------------------\n",
        "plt.plot(epochs, acc, 'r')\n",
        "plt.plot(epochs, val_acc, 'b')\n",
        "plt.title('Training and validation accuracy')\n",
        "plt.xlabel(\"Epochs\")\n",
        "plt.ylabel(\"Accuracy\")\n",
        "plt.legend([\"Accuracy\", \"Validation Accuracy\"])\n",
        "\n",
        "plt.figure()\n",
        "\n",
        "#------------------------------------------------\n",
        "# Plot training and validation loss per epoch\n",
        "#------------------------------------------------\n",
        "plt.plot(epochs, loss, 'r')\n",
        "plt.plot(epochs, val_loss, 'b')\n",
        "plt.title('Training and validation loss')\n",
        "plt.xlabel(\"Epochs\")\n",
        "plt.ylabel(\"Loss\")\n",
        "plt.legend([\"Loss\", \"Validation Loss\"])\n",
        "\n",
        "plt.figure()\n",
        "\n",
        "\n",
        "# Expected Output\n",
        "# A chart where the validation loss does not increase sharply!"
      ],
      "execution_count": 14,
      "outputs": [
        {
          "output_type": "execute_result",
          "data": {
            "text/plain": [
              "<Figure size 432x288 with 0 Axes>"
            ]
          },
          "metadata": {
            "tags": []
          },
          "execution_count": 14
        },
        {
          "output_type": "display_data",
          "data": {
            "image/png": "[encoded data removed]",
            "text/plain": [
              "<Figure size 432x288 with 1 Axes>"
            ]
          },
          "metadata": {
            "tags": [],
            "needs_background": "light"
          }
        },
        {
          "output_type": "display_data",
          "data": {
            "image/png": "[encoded data removed]",
            "text/plain": [
              "<Figure size 432x288 with 1 Axes>"
            ]
          },
          "metadata": {
            "tags": [],
            "needs_background": "light"
          }
        },
        {
          "output_type": "display_data",
          "data": {
            "text/plain": [
              "<Figure size 432x288 with 0 Axes>"
            ]
          },
          "metadata": {
            "tags": []
          }
        }
      ]
    }
  ]
}