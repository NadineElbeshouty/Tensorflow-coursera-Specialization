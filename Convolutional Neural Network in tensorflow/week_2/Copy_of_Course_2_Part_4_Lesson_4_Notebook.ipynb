{
  "nbformat": 4,
  "nbformat_minor": 0,
  "metadata": {
    "accelerator": "GPU",
    "colab": {
      "name": "Copy of Course 2 - Part 4 - Lesson 4 - Notebook.ipynb",
      "provenance": [],
      "collapsed_sections": []
    },
    "kernelspec": {
      "display_name": "Python 3",
      "name": "python3"
    }
  },
  "cells": [
    {
      "cell_type": "markdown",
      "metadata": {
        "colab_type": "text",
        "id": "rX8mhOLljYeM"
      },
      "source": [
        "##### Copyright 2019 The TensorFlow Authors."
      ]
    },
    {
      "cell_type": "code",
      "metadata": {
        "cellView": "form",
        "colab_type": "code",
        "id": "BZSlp3DAjdYf",
        "colab": {}
      },
      "source": [
        "#@title Licensed under the Apache License, Version 2.0 (the \"License\");\n",
        "# you may not use this file except in compliance with the License.\n",
        "# You may obtain a copy of the License at\n",
        "#\n",
        "# https://www.apache.org/licenses/LICENSE-2.0\n",
        "#\n",
        "# Unless required by applicable law or agreed to in writing, software\n",
        "# distributed under the License is distributed on an \"AS IS\" BASIS,\n",
        "# WITHOUT WARRANTIES OR CONDITIONS OF ANY KIND, either express or implied.\n",
        "# See the License for the specific language governing permissions and\n",
        "# limitations under the License."
      ],
      "execution_count": 1,
      "outputs": []
    },
    {
      "cell_type": "code",
      "metadata": {
        "colab_type": "code",
        "id": "RXZT2UsyIVe_",
        "colab": {
          "base_uri": "https://localhost:8080/",
          "height": 419
        },
        "outputId": "06ed81ec-88e2-4a60-c69b-9d9dbb0720d8"
      },
      "source": [
        "!wget --no-check-certificate \\\n",
        "    https://storage.googleapis.com/laurencemoroney-blog.appspot.com/horse-or-human.zip \\\n",
        "    -O /tmp/horse-or-human.zip\n",
        "\n",
        "!wget --no-check-certificate \\\n",
        "    https://storage.googleapis.com/laurencemoroney-blog.appspot.com/validation-horse-or-human.zip \\\n",
        "    -O /tmp/validation-horse-or-human.zip\n",
        "  \n",
        "import os\n",
        "import zipfile\n",
        "\n",
        "local_zip = '/tmp/horse-or-human.zip'\n",
        "zip_ref = zipfile.ZipFile(local_zip, 'r')\n",
        "zip_ref.extractall('/tmp/horse-or-human')\n",
        "local_zip = '/tmp/validation-horse-or-human.zip'\n",
        "zip_ref = zipfile.ZipFile(local_zip, 'r')\n",
        "zip_ref.extractall('/tmp/validation-horse-or-human')\n",
        "zip_ref.close()\n",
        "# Directory with our training horse pictures\n",
        "train_horse_dir = os.path.join('/tmp/horse-or-human/horses')\n",
        "\n",
        "# Directory with our training human pictures\n",
        "train_human_dir = os.path.join('/tmp/horse-or-human/humans')\n",
        "\n",
        "# Directory with our training horse pictures\n",
        "validation_horse_dir = os.path.join('/tmp/validation-horse-or-human/horses')\n",
        "\n",
        "# Directory with our training human pictures\n",
        "validation_human_dir = os.path.join('/tmp/validation-horse-or-human/humans')"
      ],
      "execution_count": 2,
      "outputs": [
        {
          "output_type": "stream",
          "text": [
            "--2020-09-20 20:24:39--  https://storage.googleapis.com/laurencemoroney-blog.appspot.com/horse-or-human.zip\n",
            "Resolving storage.googleapis.com (storage.googleapis.com)... 142.250.1.128, 209.85.234.128, 172.217.212.128, ...\n",
            "Connecting to storage.googleapis.com (storage.googleapis.com)|142.250.1.128|:443... connected.\n",
            "HTTP request sent, awaiting response... 200 OK\n",
            "Length: 149574867 (143M) [application/zip]\n",
            "Saving to: ‘/tmp/horse-or-human.zip’\n",
            "\n",
            "/tmp/horse-or-human 100%[===================>] 142.65M   186MB/s    in 0.8s    \n",
            "\n",
            "2020-09-20 20:24:40 (186 MB/s) - ‘/tmp/horse-or-human.zip’ saved [149574867/149574867]\n",
            "\n",
            "--2020-09-20 20:24:40--  https://storage.googleapis.com/laurencemoroney-blog.appspot.com/validation-horse-or-human.zip\n",
            "Resolving storage.googleapis.com (storage.googleapis.com)... 173.194.74.128, 172.217.212.128, 172.217.214.128, ...\n",
            "Connecting to storage.googleapis.com (storage.googleapis.com)|173.194.74.128|:443... connected.\n",
            "HTTP request sent, awaiting response... 200 OK\n",
            "Length: 11480187 (11M) [application/zip]\n",
            "Saving to: ‘/tmp/validation-horse-or-human.zip’\n",
            "\n",
            "/tmp/validation-hor 100%[===================>]  10.95M  --.-KB/s    in 0.04s   \n",
            "\n",
            "2020-09-20 20:24:40 (263 MB/s) - ‘/tmp/validation-horse-or-human.zip’ saved [11480187/11480187]\n",
            "\n"
          ],
          "name": "stdout"
        }
      ]
    },
    {
      "cell_type": "markdown",
      "metadata": {
        "colab_type": "text",
        "id": "5oqBkNBJmtUv"
      },
      "source": [
        "## Building a Small Model from Scratch\n",
        "\n",
        "But before we continue, let's start defining the model:\n",
        "\n",
        "Step 1 will be to import tensorflow."
      ]
    },
    {
      "cell_type": "code",
      "metadata": {
        "colab_type": "code",
        "id": "qvfZg3LQbD-5",
        "colab": {}
      },
      "source": [
        "import tensorflow as tf"
      ],
      "execution_count": 3,
      "outputs": []
    },
    {
      "cell_type": "markdown",
      "metadata": {
        "colab_type": "text",
        "id": "BnhYCP4tdqjC"
      },
      "source": [
        "We then add convolutional layers as in the previous example, and flatten the final result to feed into the densely connected layers."
      ]
    },
    {
      "cell_type": "markdown",
      "metadata": {
        "colab_type": "text",
        "id": "gokG5HKpdtzm"
      },
      "source": [
        "Finally we add the densely connected layers. \n",
        "\n",
        "Note that because we are facing a two-class classification problem, i.e. a *binary classification problem*, we will end our network with a [*sigmoid* activation](https://wikipedia.org/wiki/Sigmoid_function), so that the output of our network will be a single scalar between 0 and 1, encoding the probability that the current image is class 1 (as opposed to class 0)."
      ]
    },
    {
      "cell_type": "code",
      "metadata": {
        "colab_type": "code",
        "id": "PixZ2s5QbYQ3",
        "colab": {}
      },
      "source": [
        "model = tf.keras.models.Sequential([\n",
        "    # Note the input shape is the desired size of the image 300x300 with 3 bytes color\n",
        "    # This is the first convolution\n",
        "    tf.keras.layers.Conv2D(16, (3,3), activation='relu', input_shape=(300, 300, 3)),\n",
        "    tf.keras.layers.MaxPooling2D(2, 2),\n",
        "    # The second convolution\n",
        "    tf.keras.layers.Conv2D(32, (3,3), activation='relu'),\n",
        "    tf.keras.layers.MaxPooling2D(2,2),\n",
        "    # The third convolution\n",
        "    tf.keras.layers.Conv2D(64, (3,3), activation='relu'),\n",
        "    tf.keras.layers.MaxPooling2D(2,2),\n",
        "    # The fourth convolution\n",
        "    tf.keras.layers.Conv2D(64, (3,3), activation='relu'),\n",
        "    tf.keras.layers.MaxPooling2D(2,2),\n",
        "    # The fifth convolution\n",
        "    tf.keras.layers.Conv2D(64, (3,3), activation='relu'),\n",
        "    tf.keras.layers.MaxPooling2D(2,2),\n",
        "    # Flatten the results to feed into a DNN\n",
        "    tf.keras.layers.Flatten(),\n",
        "    # 512 neuron hidden layer\n",
        "    tf.keras.layers.Dense(512, activation='relu'),\n",
        "    # Only 1 output neuron. It will contain a value from 0-1 where 0 for 1 class ('horses') and 1 for the other ('humans')\n",
        "    tf.keras.layers.Dense(1, activation='sigmoid')\n",
        "])"
      ],
      "execution_count": 4,
      "outputs": []
    },
    {
      "cell_type": "code",
      "metadata": {
        "colab_type": "code",
        "id": "8DHWhFP_uhq3",
        "colab": {}
      },
      "source": [
        "from tensorflow.keras.optimizers import RMSprop\n",
        "\n",
        "model.compile(loss='binary_crossentropy',\n",
        "              optimizer=RMSprop(lr=1e-4),\n",
        "              metrics=['accuracy'])"
      ],
      "execution_count": 6,
      "outputs": []
    },
    {
      "cell_type": "code",
      "metadata": {
        "colab_type": "code",
        "id": "ClebU9NJg99G",
        "colab": {
          "base_uri": "https://localhost:8080/",
          "height": 52
        },
        "outputId": "e2ceca38-64a0-41cb-c10c-0b05c1390951"
      },
      "source": [
        "from tensorflow.keras.preprocessing.image import ImageDataGenerator\n",
        "\n",
        "# All images will be rescaled by 1./255\n",
        "train_datagen = ImageDataGenerator(\n",
        "      rescale=1./255,\n",
        "      rotation_range=40,\n",
        "      width_shift_range=0.2,\n",
        "      height_shift_range=0.2,\n",
        "      shear_range=0.2,\n",
        "      zoom_range=0.2,\n",
        "      horizontal_flip=True,\n",
        "      fill_mode='nearest')\n",
        "\n",
        "validation_datagen = ImageDataGenerator(rescale=1/255)\n",
        "\n",
        "# Flow training images in batches of 128 using train_datagen generator\n",
        "train_generator = train_datagen.flow_from_directory(\n",
        "        '/tmp/horse-or-human/',  # This is the source directory for training images\n",
        "        target_size=(300, 300),  # All images will be resized to 150x150\n",
        "        batch_size=128,\n",
        "        # Since we use binary_crossentropy loss, we need binary labels\n",
        "        class_mode='binary')\n",
        "\n",
        "# Flow training images in batches of 128 using train_datagen generator\n",
        "validation_generator = validation_datagen.flow_from_directory(\n",
        "        '/tmp/validation-horse-or-human/',  # This is the source directory for training images\n",
        "        target_size=(300, 300),  # All images will be resized to 150x150\n",
        "        batch_size=32,\n",
        "        # Since we use binary_crossentropy loss, we need binary labels\n",
        "        class_mode='binary')"
      ],
      "execution_count": 7,
      "outputs": [
        {
          "output_type": "stream",
          "text": [
            "Found 1027 images belonging to 2 classes.\n",
            "Found 256 images belonging to 2 classes.\n"
          ],
          "name": "stdout"
        }
      ]
    },
    {
      "cell_type": "code",
      "metadata": {
        "colab_type": "code",
        "id": "Fb1_lgobv81m",
        "colab": {
          "base_uri": "https://localhost:8080/",
          "height": 1000
        },
        "outputId": "6ca93530-256e-44ed-b71f-ce0465af2034"
      },
      "source": [
        "history = model.fit(\n",
        "      train_generator,\n",
        "      steps_per_epoch=8,  \n",
        "      epochs=100,\n",
        "      verbose=1,\n",
        "      validation_data = validation_generator,\n",
        "      validation_steps=8)"
      ],
      "execution_count": 9,
      "outputs": [
        {
          "output_type": "stream",
          "text": [
            "Epoch 1/100\n",
            "8/8 [==============================] - 19s 2s/step - loss: 0.6218 - accuracy: 0.6863 - val_loss: 0.5858 - val_accuracy: 0.7383\n",
            "Epoch 2/100\n",
            "8/8 [==============================] - 19s 2s/step - loss: 0.6070 - accuracy: 0.7041 - val_loss: 0.6051 - val_accuracy: 0.6133\n",
            "Epoch 3/100\n",
            "8/8 [==============================] - 18s 2s/step - loss: 0.5665 - accuracy: 0.7308 - val_loss: 1.0370 - val_accuracy: 0.5000\n",
            "Epoch 4/100\n",
            "8/8 [==============================] - 18s 2s/step - loss: 0.5871 - accuracy: 0.6841 - val_loss: 0.6221 - val_accuracy: 0.5703\n",
            "Epoch 5/100\n",
            "8/8 [==============================] - 19s 2s/step - loss: 0.5474 - accuracy: 0.7353 - val_loss: 0.6000 - val_accuracy: 0.5000\n",
            "Epoch 6/100\n",
            "8/8 [==============================] - 19s 2s/step - loss: 0.5825 - accuracy: 0.7086 - val_loss: 0.7247 - val_accuracy: 0.5273\n",
            "Epoch 7/100\n",
            "8/8 [==============================] - 19s 2s/step - loss: 0.5315 - accuracy: 0.7364 - val_loss: 0.4840 - val_accuracy: 0.8750\n",
            "Epoch 8/100\n",
            "8/8 [==============================] - 21s 3s/step - loss: 0.5314 - accuracy: 0.7464 - val_loss: 0.6402 - val_accuracy: 0.5820\n",
            "Epoch 9/100\n",
            "8/8 [==============================] - 21s 3s/step - loss: 0.5256 - accuracy: 0.7383 - val_loss: 0.6044 - val_accuracy: 0.6094\n",
            "Epoch 10/100\n",
            "8/8 [==============================] - 19s 2s/step - loss: 0.5573 - accuracy: 0.7186 - val_loss: 0.6736 - val_accuracy: 0.5781\n",
            "Epoch 11/100\n",
            "8/8 [==============================] - 19s 2s/step - loss: 0.4973 - accuracy: 0.7542 - val_loss: 0.8066 - val_accuracy: 0.5352\n",
            "Epoch 12/100\n",
            "8/8 [==============================] - 19s 2s/step - loss: 0.5581 - accuracy: 0.7152 - val_loss: 0.8210 - val_accuracy: 0.5312\n",
            "Epoch 13/100\n",
            "8/8 [==============================] - 21s 3s/step - loss: 0.4794 - accuracy: 0.7705 - val_loss: 0.8022 - val_accuracy: 0.5547\n",
            "Epoch 14/100\n",
            "8/8 [==============================] - 19s 2s/step - loss: 0.5263 - accuracy: 0.7419 - val_loss: 0.7337 - val_accuracy: 0.5820\n",
            "Epoch 15/100\n",
            "8/8 [==============================] - 21s 3s/step - loss: 0.4350 - accuracy: 0.8154 - val_loss: 0.6467 - val_accuracy: 0.6680\n",
            "Epoch 16/100\n",
            "8/8 [==============================] - 21s 3s/step - loss: 0.4555 - accuracy: 0.7871 - val_loss: 0.7460 - val_accuracy: 0.6133\n",
            "Epoch 17/100\n",
            "8/8 [==============================] - 18s 2s/step - loss: 0.4168 - accuracy: 0.8109 - val_loss: 0.4987 - val_accuracy: 0.7852\n",
            "Epoch 18/100\n",
            "8/8 [==============================] - 21s 3s/step - loss: 0.4478 - accuracy: 0.7909 - val_loss: 0.9916 - val_accuracy: 0.5625\n",
            "Epoch 19/100\n",
            "8/8 [==============================] - 19s 2s/step - loss: 0.4179 - accuracy: 0.8131 - val_loss: 1.0678 - val_accuracy: 0.5664\n",
            "Epoch 20/100\n",
            "8/8 [==============================] - 19s 2s/step - loss: 0.4373 - accuracy: 0.8065 - val_loss: 1.0175 - val_accuracy: 0.5859\n",
            "Epoch 21/100\n",
            "8/8 [==============================] - 19s 2s/step - loss: 0.3934 - accuracy: 0.8365 - val_loss: 0.9555 - val_accuracy: 0.6328\n",
            "Epoch 22/100\n",
            "8/8 [==============================] - 21s 3s/step - loss: 0.4982 - accuracy: 0.7931 - val_loss: 1.2612 - val_accuracy: 0.5508\n",
            "Epoch 23/100\n",
            "8/8 [==============================] - 19s 2s/step - loss: 0.3946 - accuracy: 0.8465 - val_loss: 1.3179 - val_accuracy: 0.5547\n",
            "Epoch 24/100\n",
            "8/8 [==============================] - 19s 2s/step - loss: 0.4211 - accuracy: 0.7987 - val_loss: 0.9746 - val_accuracy: 0.6250\n",
            "Epoch 25/100\n",
            "8/8 [==============================] - 21s 3s/step - loss: 0.3677 - accuracy: 0.8387 - val_loss: 1.3761 - val_accuracy: 0.5547\n",
            "Epoch 26/100\n",
            "8/8 [==============================] - 19s 2s/step - loss: 0.3729 - accuracy: 0.8409 - val_loss: 0.9324 - val_accuracy: 0.6836\n",
            "Epoch 27/100\n",
            "8/8 [==============================] - 19s 2s/step - loss: 0.3643 - accuracy: 0.8454 - val_loss: 1.3991 - val_accuracy: 0.5547\n",
            "Epoch 28/100\n",
            "8/8 [==============================] - 19s 2s/step - loss: 0.3788 - accuracy: 0.8331 - val_loss: 0.9845 - val_accuracy: 0.6875\n",
            "Epoch 29/100\n",
            "8/8 [==============================] - 22s 3s/step - loss: 0.4391 - accuracy: 0.8009 - val_loss: 1.0649 - val_accuracy: 0.6250\n",
            "Epoch 30/100\n",
            "8/8 [==============================] - 19s 2s/step - loss: 0.3385 - accuracy: 0.8632 - val_loss: 1.1588 - val_accuracy: 0.6406\n",
            "Epoch 31/100\n",
            "8/8 [==============================] - 21s 3s/step - loss: 0.3056 - accuracy: 0.9004 - val_loss: 1.9034 - val_accuracy: 0.5586\n",
            "Epoch 32/100\n",
            "8/8 [==============================] - 19s 2s/step - loss: 0.2941 - accuracy: 0.8799 - val_loss: 1.5142 - val_accuracy: 0.6289\n",
            "Epoch 33/100\n",
            "8/8 [==============================] - 21s 3s/step - loss: 0.3250 - accuracy: 0.8555 - val_loss: 2.3738 - val_accuracy: 0.5156\n",
            "Epoch 34/100\n",
            "8/8 [==============================] - 19s 2s/step - loss: 0.3305 - accuracy: 0.8498 - val_loss: 1.6381 - val_accuracy: 0.5859\n",
            "Epoch 35/100\n",
            "8/8 [==============================] - 19s 2s/step - loss: 0.3133 - accuracy: 0.8632 - val_loss: 1.0687 - val_accuracy: 0.6836\n",
            "Epoch 36/100\n",
            "8/8 [==============================] - 19s 2s/step - loss: 0.2898 - accuracy: 0.8843 - val_loss: 1.1216 - val_accuracy: 0.6875\n",
            "Epoch 37/100\n",
            "8/8 [==============================] - 19s 2s/step - loss: 0.3318 - accuracy: 0.8543 - val_loss: 1.6157 - val_accuracy: 0.6211\n",
            "Epoch 38/100\n",
            "8/8 [==============================] - 18s 2s/step - loss: 0.2794 - accuracy: 0.8888 - val_loss: 0.9173 - val_accuracy: 0.7656\n",
            "Epoch 39/100\n",
            "8/8 [==============================] - 19s 2s/step - loss: 0.4080 - accuracy: 0.8498 - val_loss: 1.7139 - val_accuracy: 0.5938\n",
            "Epoch 40/100\n",
            "8/8 [==============================] - 21s 3s/step - loss: 0.2703 - accuracy: 0.8887 - val_loss: 2.3120 - val_accuracy: 0.5430\n",
            "Epoch 41/100\n",
            "8/8 [==============================] - 18s 2s/step - loss: 0.2822 - accuracy: 0.8788 - val_loss: 1.7222 - val_accuracy: 0.6133\n",
            "Epoch 42/100\n",
            "8/8 [==============================] - 18s 2s/step - loss: 0.2672 - accuracy: 0.8877 - val_loss: 2.5236 - val_accuracy: 0.5156\n",
            "Epoch 43/100\n",
            "8/8 [==============================] - 21s 3s/step - loss: 0.2796 - accuracy: 0.8809 - val_loss: 0.9918 - val_accuracy: 0.7227\n",
            "Epoch 44/100\n",
            "8/8 [==============================] - 19s 2s/step - loss: 0.2678 - accuracy: 0.8832 - val_loss: 1.8260 - val_accuracy: 0.5898\n",
            "Epoch 45/100\n",
            "8/8 [==============================] - 18s 2s/step - loss: 0.2340 - accuracy: 0.9121 - val_loss: 3.7178 - val_accuracy: 0.5000\n",
            "Epoch 46/100\n",
            "8/8 [==============================] - 19s 2s/step - loss: 0.2995 - accuracy: 0.8810 - val_loss: 1.8844 - val_accuracy: 0.5977\n",
            "Epoch 47/100\n",
            "8/8 [==============================] - 19s 2s/step - loss: 0.2248 - accuracy: 0.9121 - val_loss: 2.5509 - val_accuracy: 0.5352\n",
            "Epoch 48/100\n",
            "8/8 [==============================] - 21s 3s/step - loss: 0.2684 - accuracy: 0.8877 - val_loss: 2.3518 - val_accuracy: 0.5430\n",
            "Epoch 49/100\n",
            "8/8 [==============================] - 19s 2s/step - loss: 0.2309 - accuracy: 0.9021 - val_loss: 1.8264 - val_accuracy: 0.6172\n",
            "Epoch 50/100\n",
            "8/8 [==============================] - 19s 2s/step - loss: 0.2846 - accuracy: 0.8732 - val_loss: 1.4795 - val_accuracy: 0.6367\n",
            "Epoch 51/100\n",
            "8/8 [==============================] - 19s 2s/step - loss: 0.2206 - accuracy: 0.9121 - val_loss: 1.8580 - val_accuracy: 0.6133\n",
            "Epoch 52/100\n",
            "8/8 [==============================] - 19s 2s/step - loss: 0.2915 - accuracy: 0.8765 - val_loss: 2.8317 - val_accuracy: 0.5469\n",
            "Epoch 53/100\n",
            "8/8 [==============================] - 19s 2s/step - loss: 0.2480 - accuracy: 0.9055 - val_loss: 3.0031 - val_accuracy: 0.5117\n",
            "Epoch 54/100\n",
            "8/8 [==============================] - 19s 2s/step - loss: 0.3635 - accuracy: 0.8298 - val_loss: 1.2623 - val_accuracy: 0.6523\n",
            "Epoch 55/100\n",
            "8/8 [==============================] - 21s 3s/step - loss: 0.2124 - accuracy: 0.9210 - val_loss: 2.5356 - val_accuracy: 0.5508\n",
            "Epoch 56/100\n",
            "8/8 [==============================] - 19s 2s/step - loss: 0.2284 - accuracy: 0.9121 - val_loss: 1.3771 - val_accuracy: 0.6680\n",
            "Epoch 57/100\n",
            "8/8 [==============================] - 19s 2s/step - loss: 0.2132 - accuracy: 0.9299 - val_loss: 1.3859 - val_accuracy: 0.6797\n",
            "Epoch 58/100\n",
            "8/8 [==============================] - 19s 2s/step - loss: 0.2317 - accuracy: 0.9110 - val_loss: 2.1482 - val_accuracy: 0.6016\n",
            "Epoch 59/100\n",
            "8/8 [==============================] - 22s 3s/step - loss: 0.2553 - accuracy: 0.8999 - val_loss: 1.8822 - val_accuracy: 0.6094\n",
            "Epoch 60/100\n",
            "8/8 [==============================] - 22s 3s/step - loss: 0.2622 - accuracy: 0.8843 - val_loss: 2.0050 - val_accuracy: 0.5898\n",
            "Epoch 61/100\n",
            "8/8 [==============================] - 21s 3s/step - loss: 0.2240 - accuracy: 0.9209 - val_loss: 1.8967 - val_accuracy: 0.6133\n",
            "Epoch 62/100\n",
            "8/8 [==============================] - 19s 2s/step - loss: 0.2293 - accuracy: 0.9032 - val_loss: 1.4862 - val_accuracy: 0.6602\n",
            "Epoch 63/100\n",
            "8/8 [==============================] - 19s 2s/step - loss: 0.2330 - accuracy: 0.9066 - val_loss: 1.6063 - val_accuracy: 0.6367\n",
            "Epoch 64/100\n",
            "8/8 [==============================] - 19s 2s/step - loss: 0.2382 - accuracy: 0.8999 - val_loss: 1.4738 - val_accuracy: 0.6367\n",
            "Epoch 65/100\n",
            "8/8 [==============================] - 19s 2s/step - loss: 0.1933 - accuracy: 0.9321 - val_loss: 3.4216 - val_accuracy: 0.5234\n",
            "Epoch 66/100\n",
            "8/8 [==============================] - 19s 2s/step - loss: 0.2071 - accuracy: 0.9110 - val_loss: 1.4945 - val_accuracy: 0.6992\n",
            "Epoch 67/100\n",
            "8/8 [==============================] - 19s 2s/step - loss: 0.2047 - accuracy: 0.9232 - val_loss: 3.0550 - val_accuracy: 0.5391\n",
            "Epoch 68/100\n",
            "8/8 [==============================] - 19s 2s/step - loss: 0.2879 - accuracy: 0.8910 - val_loss: 2.3791 - val_accuracy: 0.5781\n",
            "Epoch 69/100\n",
            "8/8 [==============================] - 19s 2s/step - loss: 0.3875 - accuracy: 0.8988 - val_loss: 2.6787 - val_accuracy: 0.5508\n",
            "Epoch 70/100\n",
            "8/8 [==============================] - 21s 3s/step - loss: 0.1842 - accuracy: 0.9365 - val_loss: 2.7150 - val_accuracy: 0.5625\n",
            "Epoch 71/100\n",
            "8/8 [==============================] - 19s 2s/step - loss: 0.1801 - accuracy: 0.9333 - val_loss: 2.6158 - val_accuracy: 0.5664\n",
            "Epoch 72/100\n",
            "8/8 [==============================] - 22s 3s/step - loss: 0.2195 - accuracy: 0.9155 - val_loss: 2.4762 - val_accuracy: 0.5664\n",
            "Epoch 73/100\n",
            "8/8 [==============================] - 21s 3s/step - loss: 0.2333 - accuracy: 0.9121 - val_loss: 3.0372 - val_accuracy: 0.5430\n",
            "Epoch 74/100\n",
            "8/8 [==============================] - 21s 3s/step - loss: 0.1667 - accuracy: 0.9355 - val_loss: 2.6048 - val_accuracy: 0.5664\n",
            "Epoch 75/100\n",
            "8/8 [==============================] - 19s 2s/step - loss: 0.2285 - accuracy: 0.9055 - val_loss: 2.9707 - val_accuracy: 0.5391\n",
            "Epoch 76/100\n",
            "8/8 [==============================] - 19s 2s/step - loss: 0.2167 - accuracy: 0.9177 - val_loss: 1.4867 - val_accuracy: 0.6680\n",
            "Epoch 77/100\n",
            "8/8 [==============================] - 19s 2s/step - loss: 0.2040 - accuracy: 0.9132 - val_loss: 2.2419 - val_accuracy: 0.5547\n",
            "Epoch 78/100\n",
            "8/8 [==============================] - 19s 2s/step - loss: 0.1751 - accuracy: 0.9344 - val_loss: 2.6384 - val_accuracy: 0.5664\n",
            "Epoch 79/100\n",
            "8/8 [==============================] - 19s 2s/step - loss: 0.1796 - accuracy: 0.9310 - val_loss: 2.1024 - val_accuracy: 0.6094\n",
            "Epoch 80/100\n",
            "8/8 [==============================] - 19s 2s/step - loss: 0.2440 - accuracy: 0.8999 - val_loss: 2.3992 - val_accuracy: 0.5664\n",
            "Epoch 81/100\n",
            "8/8 [==============================] - 21s 3s/step - loss: 0.1712 - accuracy: 0.9333 - val_loss: 2.7319 - val_accuracy: 0.5703\n",
            "Epoch 82/100\n",
            "8/8 [==============================] - 18s 2s/step - loss: 0.1484 - accuracy: 0.9455 - val_loss: 2.8109 - val_accuracy: 0.5703\n",
            "Epoch 83/100\n",
            "8/8 [==============================] - 19s 2s/step - loss: 0.2068 - accuracy: 0.9177 - val_loss: 2.3802 - val_accuracy: 0.5781\n",
            "Epoch 84/100\n",
            "8/8 [==============================] - 22s 3s/step - loss: 0.1670 - accuracy: 0.9355 - val_loss: 2.4651 - val_accuracy: 0.5938\n",
            "Epoch 85/100\n",
            "8/8 [==============================] - 19s 2s/step - loss: 0.1506 - accuracy: 0.9422 - val_loss: 2.7137 - val_accuracy: 0.5703\n",
            "Epoch 86/100\n",
            "8/8 [==============================] - 19s 2s/step - loss: 0.2232 - accuracy: 0.9010 - val_loss: 2.0827 - val_accuracy: 0.5898\n",
            "Epoch 87/100\n",
            "8/8 [==============================] - 19s 2s/step - loss: 0.1528 - accuracy: 0.9444 - val_loss: 2.3836 - val_accuracy: 0.5859\n",
            "Epoch 88/100\n",
            "8/8 [==============================] - 19s 2s/step - loss: 0.1532 - accuracy: 0.9399 - val_loss: 3.1700 - val_accuracy: 0.5352\n",
            "Epoch 89/100\n",
            "8/8 [==============================] - 19s 2s/step - loss: 0.2148 - accuracy: 0.9132 - val_loss: 2.1725 - val_accuracy: 0.5977\n",
            "Epoch 90/100\n",
            "8/8 [==============================] - 19s 2s/step - loss: 0.1543 - accuracy: 0.9388 - val_loss: 3.3381 - val_accuracy: 0.5547\n",
            "Epoch 91/100\n",
            "8/8 [==============================] - 21s 3s/step - loss: 0.1424 - accuracy: 0.9521 - val_loss: 1.0760 - val_accuracy: 0.7500\n",
            "Epoch 92/100\n",
            "8/8 [==============================] - 19s 2s/step - loss: 0.2514 - accuracy: 0.8932 - val_loss: 2.8762 - val_accuracy: 0.5820\n",
            "Epoch 93/100\n",
            "8/8 [==============================] - 19s 2s/step - loss: 0.1806 - accuracy: 0.9244 - val_loss: 1.7278 - val_accuracy: 0.6680\n",
            "Epoch 94/100\n",
            "8/8 [==============================] - 21s 3s/step - loss: 0.1512 - accuracy: 0.9499 - val_loss: 2.9044 - val_accuracy: 0.5859\n",
            "Epoch 95/100\n",
            "8/8 [==============================] - 19s 2s/step - loss: 0.1912 - accuracy: 0.9155 - val_loss: 2.1635 - val_accuracy: 0.6055\n",
            "Epoch 96/100\n",
            "8/8 [==============================] - 19s 2s/step - loss: 0.1511 - accuracy: 0.9488 - val_loss: 2.7288 - val_accuracy: 0.5781\n",
            "Epoch 97/100\n",
            "8/8 [==============================] - 21s 3s/step - loss: 0.1385 - accuracy: 0.9473 - val_loss: 3.3740 - val_accuracy: 0.5508\n",
            "Epoch 98/100\n",
            "8/8 [==============================] - 21s 3s/step - loss: 0.1726 - accuracy: 0.9355 - val_loss: 3.0594 - val_accuracy: 0.5469\n",
            "Epoch 99/100\n",
            "8/8 [==============================] - 19s 2s/step - loss: 0.1146 - accuracy: 0.9600 - val_loss: 4.3448 - val_accuracy: 0.5234\n",
            "Epoch 100/100\n",
            "8/8 [==============================] - 19s 2s/step - loss: 0.1556 - accuracy: 0.9399 - val_loss: 2.5784 - val_accuracy: 0.5859\n"
          ],
          "name": "stdout"
        }
      ]
    },
    {
      "cell_type": "code",
      "metadata": {
        "colab_type": "code",
        "id": "7zNPRWOVJdOH",
        "colab": {
          "base_uri": "https://localhost:8080/",
          "height": 545
        },
        "outputId": "86c8f656-d5f8-4606-a173-68c923663979"
      },
      "source": [
        "import matplotlib.pyplot as plt\n",
        "acc = history.history['accuracy']\n",
        "val_acc = history.history['val_accuracy']\n",
        "loss = history.history['loss']\n",
        "val_loss = history.history['val_loss']\n",
        "\n",
        "epochs = range(len(acc))\n",
        "\n",
        "plt.plot(epochs, acc, 'r', label='Training accuracy')\n",
        "plt.plot(epochs, val_acc, 'b', label='Validation accuracy')\n",
        "plt.title('Training and validation accuracy')\n",
        "\n",
        "plt.figure()\n",
        "\n",
        "plt.plot(epochs, loss, 'r', label='Training Loss')\n",
        "plt.plot(epochs, val_loss, 'b', label='Validation Loss')\n",
        "plt.title('Training and validation loss')\n",
        "plt.legend()\n",
        "\n",
        "plt.show()"
      ],
      "execution_count": 10,
      "outputs": [
        {
          "output_type": "display_data",
          "data": {
            "image/png": "[encoded data removed]",
            "text/plain": [
              "<Figure size 432x288 with 1 Axes>"
            ]
          },
          "metadata": {
            "tags": [],
            "needs_background": "light"
          }
        },
        {
          "output_type": "display_data",
          "data": {
            "image/png": "[encoded data removed]",
            "text/plain": [
              "<Figure size 432x288 with 1 Axes>"
            ]
          },
          "metadata": {
            "tags": [],
            "needs_background": "light"
          }
        }
      ]
    }
  ]
}